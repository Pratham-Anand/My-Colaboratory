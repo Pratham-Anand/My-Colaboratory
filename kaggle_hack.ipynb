{
  "cells": [
    {
      "cell_type": "markdown",
      "metadata": {
        "id": "view-in-github",
        "colab_type": "text"
      },
      "source": [
        "<a href=\"https://colab.research.google.com/github/Pratham-Anand/My-Colaboratory/blob/main/kaggle_hack.ipynb\" target=\"_parent\"><img src=\"https://colab.research.google.com/assets/colab-badge.svg\" alt=\"Open In Colab\"/></a>"
      ]
    },
    {
      "cell_type": "code",
      "execution_count": null,
      "metadata": {
        "id": "RBQCXy3VBpee"
      },
      "outputs": [],
      "source": [
        "import numpy as np\n",
        "import pandas as pd\n",
        "import os\n",
        "import matplotlib.pyplot as plt\n",
        "from sklearn.preprocessing import StandardScaler\n",
        "from sklearn.preprocessing import MinMaxScaler\n",
        "from sklearn import datasets\n",
        "from sklearn.metrics import confusion_matrix\n",
        "from sklearn.model_selection import train_test_split"
      ]
    },
    {
      "cell_type": "code",
      "execution_count": null,
      "metadata": {
        "id": "iyzIFGJwCFWd"
      },
      "outputs": [],
      "source": [
        "data=pd.read_csv(\"train.csv\")\n",
        "data.head()\n",
        "# data.isna()\n",
        "# data.isnull().sum()\n",
        "# data.describe()\n",
        "print(data.isna().sum(axis=0))\n"
      ]
    },
    {
      "cell_type": "code",
      "execution_count": null,
      "metadata": {
        "id": "-zKgXSpdCdH8"
      },
      "outputs": [],
      "source": [
        "x=data.loc[ : ,data.columns!='target']\n",
        "y=data.target\n",
        "# x_train, x_test, y_train, y_test = train_test_split(x, y, train_size=1.00,test_size=0,random_state = 0)\n",
        "x_train=x\n",
        "y_train=y\n"
      ]
    },
    {
      "cell_type": "code",
      "execution_count": null,
      "metadata": {
        "id": "sthmnoXuCjrf"
      },
      "outputs": [],
      "source": [
        "from sklearn.neighbors import KNeighborsClassifier\n",
        "from sklearn.model_selection import GridSearchCV\n",
        "# leaf_size = list(range(1,50))\n",
        "# n_neighbors = list(range(1,30))\n",
        "# p=[1,2]\n",
        "# #convert to dictionary\n",
        "# hyperparameters = dict(leaf_size=leaf_size, n_neighbors=n_neighbors, p=p)\n",
        "# clf = GridSearchCV(knn, hyperparameters, cv=10)\n",
        "#x_train, x_test, y_train, y_test = train_test_split(x, y, train_size=0.75,test_size=0.25,random_state = 0)\n",
        "# best_model = clf.fit(x_train,y_train)\n",
        "knn = KNeighborsClassifier(n_neighbors =325).fit(x_train, y_train)\n",
        "  \n",
        "# accuracy on X_test\n",
        "# accuracy = knn.score(x_train, y_train)\n",
        "# print(accuracy)\n",
        "  \n",
        "# creating a confusion matrix\n",
        "# knn_predictions = knn.predict(x_test) \n",
        "# cm = confusion_matrix(y_test, knn_predictions)"
      ]
    },
    {
      "cell_type": "code",
      "execution_count": null,
      "metadata": {
        "id": "F243tSqe20lw"
      },
      "outputs": [],
      "source": [
        "Y=pd.read_csv(\"test.csv\")\n",
        "Y_test=data.loc[ : ,  Y.columns!='id']"
      ]
    },
    {
      "cell_type": "code",
      "execution_count": null,
      "metadata": {
        "colab": {
          "base_uri": "https://localhost:8080/"
        },
        "id": "bdZ6hnV8J_kr",
        "outputId": "f5f0f768-de38-42e2-aa7d-55174f5da936"
      },
      "outputs": [
        {
          "name": "stdout",
          "output_type": "stream",
          "text": [
            "[3 3 3 ... 3 3 3]\n"
          ]
        }
      ],
      "source": [
        "predicted_knn=knn.predict(Y_test)\n",
        "print(predicted_knn)"
      ]
    },
    {
      "cell_type": "code",
      "execution_count": null,
      "metadata": {
        "id": "VoO0qICfRDbG"
      },
      "outputs": [],
      "source": [
        "my_submission = pd.DataFrame({'id': Y.id, 'target': predicted_knn})\n",
        "# you could use any filename. We choose submission here\n",
        "my_submission.to_csv('knn.csv', index=False)"
      ]
    },
    {
      "cell_type": "markdown",
      "metadata": {
        "id": "Iq7cTXs7GgQm"
      },
      "source": [
        "**SVM**\n"
      ]
    },
    {
      "cell_type": "code",
      "execution_count": null,
      "metadata": {
        "id": "BcpQMh6qGiOO"
      },
      "outputs": [],
      "source": [
        "from sklearn.svm import SVC\n",
        "# x_train, x_test, y_train, y_test = train_test_split(x, y, train_size=0.6,test_size=0.3,random_state = 0)\n",
        "svmtrainx=x.iloc[:10000]\n",
        "svmtrainy=y.iloc[:10000]\n",
        "svm_model_linear = SVC(kernel = 'linear', C = 1).fit(svmtrainx,svmtrainy)\n",
        "svm_predictions = svm_model_linear.predict(Y_test)\n",
        "print(svm_predictions)\n",
        "  \n",
        "# model accuracy for X_test  \n",
        "# accuracy = svm_model_linear.score(x_test, y_test)\n",
        "# print(accuracy)\n",
        "  \n",
        "# creating a confusion matrix\n",
        "# cm = confusion_matrix(y_test, svm_predictions)\n",
        "my_submission = pd.DataFrame({'id': Y.id, 'target': svm_predictions})\n",
        "# # you could use any filename. We choose submission here\n",
        "my_submission.to_csv('svm.csv', index=False)\n"
      ]
    },
    {
      "cell_type": "markdown",
      "metadata": {
        "id": "YjkVnbWs1rQP"
      },
      "source": [
        "**Random Forest Classifier**"
      ]
    },
    {
      "cell_type": "code",
      "execution_count": null,
      "metadata": {
        "colab": {
          "base_uri": "https://localhost:8080/"
        },
        "id": "MdBiRGKa1xSZ",
        "outputId": "e9bee027-e403-47f6-e8f2-6d7bed80453a"
      },
      "outputs": [
        {
          "name": "stdout",
          "output_type": "stream",
          "text": [
            "[2 4 3 ... 3 3 0]\n"
          ]
        }
      ],
      "source": [
        "from sklearn.ensemble import RandomForestClassifier\n",
        "x_train, x_test, y_train, y_test = train_test_split(x, y, train_size=0.99,test_size=0.01,random_state = 0)\n",
        "\n",
        "# Fitting Random Forest Classification to the Training set\n",
        "classifier = RandomForestClassifier(n_estimators = 100, criterion = 'entropy', random_state = 42)\n",
        "classifier.fit(x_train, y_train)\n",
        "\n",
        "predicted_forest = classifier.predict(Y_test)\n",
        "print(predicted_forest)\n",
        "\n",
        "my_submission = pd.DataFrame({'id': Y.id, 'target': predicted_forest})\n",
        "# you could use any filename. We choose submission here\n",
        "my_submission.to_csv('randomforest.csv', index=False)"
      ]
    },
    {
      "cell_type": "markdown",
      "metadata": {
        "id": "PqO0mxKOesr0"
      },
      "source": [
        "**Decision Tree Classifier**"
      ]
    },
    {
      "cell_type": "code",
      "execution_count": null,
      "metadata": {
        "id": "CnSoAyETerfi"
      },
      "outputs": [],
      "source": [
        "x_train, x_test, y_train, y_test = train_test_split(x, y,train_size=0.99,test_size=0.01,random_state = 0)\n",
        "\n",
        "# training a DescisionTreeClassifier\n",
        "from sklearn.tree import DecisionTreeClassifier\n",
        "dtree_model = DecisionTreeClassifier(max_depth =2).fit(x_train, y_train)\n",
        "predicted_dtree = dtree_model.predict(Y_test) \n",
        "print(predicted_dtree)\n",
        "# creating a confusion matrix\n",
        "final_submission=pd.DataFrame({\"id\":Y.id,\"target\":predicted_dtree})\n",
        "final_submission.to_csv('dtree.csv', index=False)"
      ]
    },
    {
      "cell_type": "markdown",
      "metadata": {
        "id": "WNhx9BkBHJrn"
      },
      "source": [
        "**Navye bayes**"
      ]
    },
    {
      "cell_type": "code",
      "execution_count": null,
      "metadata": {
        "id": "SAln1aZmHObw"
      },
      "outputs": [],
      "source": [
        "x_train, x_test, y_train, y_test = train_test_split(x, y, train_size=0.99,test_size=0.01, random_state=1)\n",
        "  \n",
        "# training the model on training set\n",
        "from sklearn.naive_bayes import GaussianNB\n",
        "gnb = GaussianNB()\n",
        "gnb.fit(x_train, y_train)\n",
        "  \n",
        "# making predictions on the testing set\n",
        "predicted_bayes = gnb.predict(Y_test)\n",
        "print(predicted_bayes)\n",
        "\n",
        "final_submission=pd.DataFrame({\"id\":Y.id,\"target\":predicted_bayes})\n",
        "final_submission.to_csv('navyebase.csv', index=False)\n",
        "# comparing actual response values (y_test) with predicted response values (y_pred)\n",
        "# from sklearn import metrics\n",
        "# print(\"Gaussian Naive Bayes model accuracy(in %):\", metrics.accuracy_score(y_test, y_pred)*100)"
      ]
    },
    {
      "cell_type": "markdown",
      "metadata": {
        "id": "YPiyM2h3192r"
      },
      "source": [
        "**Parameter Tuning**"
      ]
    },
    {
      "cell_type": "code",
      "execution_count": null,
      "metadata": {
        "id": "-7Q_EN2d186A"
      },
      "outputs": [],
      "source": [
        "from sklearn.ensemble import RandomForestRegressor\n",
        "rf = RandomForestRegressor(random_state = 42)\n",
        "from pprint import pprint\n",
        "# Look at parameters used by our current forest\n",
        "print('Parameters currently in use:\\n')\n",
        "pprint(rf.get_params())"
      ]
    },
    {
      "cell_type": "code",
      "execution_count": null,
      "metadata": {
        "colab": {
          "base_uri": "https://localhost:8080/"
        },
        "id": "rOMerQj52Hp7",
        "outputId": "34a272a6-61fa-486c-f21b-2202dca2b3e8"
      },
      "outputs": [
        {
          "name": "stdout",
          "output_type": "stream",
          "text": [
            "{'bootstrap': [True, False],\n",
            " 'max_depth': [10, 20, 30, 40, 50, 60, 70, 80, 90, 100, 110, None],\n",
            " 'max_features': ['auto', 'sqrt'],\n",
            " 'min_samples_leaf': [1, 2, 4],\n",
            " 'min_samples_split': [2, 5, 10],\n",
            " 'n_estimators': [200, 400, 600, 800, 1000, 1200, 1400, 1600, 1800, 2000]}\n"
          ]
        }
      ],
      "source": [
        "from sklearn.model_selection import RandomizedSearchCV\n",
        "import numpy as np\n",
        "# Number of trees in random forest\n",
        "n_estimators = [int(x) for x in np.linspace(start = 200, stop = 2000, num = 10)]\n",
        "# Number of features to consider at every split\n",
        "max_features = ['auto', 'sqrt']\n",
        "# Maximum number of levels in tree\n",
        "max_depth = [int(x) for x in np.linspace(10, 110, num = 11)]\n",
        "max_depth.append(None)\n",
        "# Minimum number of samples required to split a node\n",
        "min_samples_split = [2, 5, 10]\n",
        "# Minimum number of samples required at each leaf node\n",
        "min_samples_leaf = [1, 2, 4]\n",
        "# Method of selecting samples for training each tree\n",
        "bootstrap = [True, False]\n",
        "# Create the random grid\n",
        "random_grid = {'n_estimators': n_estimators,\n",
        "               'max_features': max_features,\n",
        "               'max_depth': max_depth,\n",
        "               'min_samples_split': min_samples_split,\n",
        "               'min_samples_leaf': min_samples_leaf,\n",
        "               'bootstrap': bootstrap}\n",
        "pprint(random_grid)"
      ]
    },
    {
      "cell_type": "code",
      "execution_count": null,
      "metadata": {
        "colab": {
          "background_save": true,
          "base_uri": "https://localhost:8080/"
        },
        "id": "qk51IVlH2hR8",
        "outputId": "6b47936a-29b6-477a-e40f-690536de95e4"
      },
      "outputs": [
        {
          "name": "stdout",
          "output_type": "stream",
          "text": [
            "Fitting 3 folds for each of 100 candidates, totalling 300 fits\n"
          ]
        }
      ],
      "source": [
        "rf = RandomForestRegressor()\n",
        "# Random search of parameters, using 3 fold cross validation, \n",
        "# search across 100 different combinations, and use all available cores\n",
        "rf_random = RandomizedSearchCV(estimator = rf, param_distributions = random_grid, n_iter = 100, cv = 3, verbose=2, random_state=42, n_jobs = -1)\n",
        "# Fit the random search model\n",
        "svmtrainx=x.iloc[:10000]\n",
        "svmtrainy=y.iloc[:10000]\n",
        "rf_random.fit(svmtrainx,svmtrainy)"
      ]
    },
    {
      "cell_type": "markdown",
      "metadata": {
        "id": "5aJtPoqi8dZy"
      },
      "source": [
        "**Ensembling**\n"
      ]
    },
    {
      "cell_type": "code",
      "execution_count": null,
      "metadata": {
        "id": "Qi_B3R8z8iTD"
      },
      "outputs": [],
      "source": [
        "# finaldf=pd.DataFrame({\"KNN\":predicted_knn,\"Random Forest\":predicted_forest,\"SVM\":svm_predictions,\"Dtree\":predicted_dtree})\n",
        "# # print(finaldf)\n",
        "# finalarray = finaldf.to_numpy()\n",
        "# # print(finalarray)\n",
        "# from scipy import stats\n",
        "# # for i in range(len(finaldf)):\n",
        "# #   if(finaldf.loc[i,\"KNN\"]==finaldf.loc[i,\"Random Forest\"] or finaldf.loc[i,\"KNN\"]==finaldf.loc[i,\"SVM\"] or finaldf.loc[i,\"SVM\"]==finaldf.loc[i,\"Random Forest\"]) :\n",
        "# #     finaltarget[i][0]=(stats.mode(finalarray[i],axis=1)[0]) \n",
        "# #   else :\n",
        "# #     finaltarget[i][0]=3\n",
        "\n",
        "\n",
        "\n",
        "\n",
        " \n",
        "# print(finaltarget)\n",
        "# # finaldf['finaltarget']=finaltarget\n",
        "\n",
        "\n",
        "# # final_submission=pd.DataFrame({\"id\":Y.id,\"target\":finaldf.finaltarget})\n",
        "# # final_submission.to_csv('kaggle.csv', index=False)\n"
      ]
    },
    {
      "cell_type": "markdown",
      "metadata": {
        "id": "IWMAnzONnr5x"
      },
      "source": [
        "**value of k**"
      ]
    },
    {
      "cell_type": "code",
      "execution_count": null,
      "metadata": {
        "colab": {
          "base_uri": "https://localhost:8080/",
          "height": 609
        },
        "id": "DhpdwjRtnx_i",
        "outputId": "bb1e6a77-c81d-4b3c-9eb0-77ecbc95da47"
      },
      "outputs": [
        {
          "data": {
            "text/plain": [
              "[<matplotlib.lines.Line2D at 0x7f0abe375640>]"
            ]
          },
          "execution_count": 50,
          "metadata": {},
          "output_type": "execute_result"
        },
        {
          "data": {
            "image/png": "[encoded data removed]",
            "text/plain": [
              "<Figure size 1080x720 with 1 Axes>"
            ]
          },
          "metadata": {},
          "output_type": "display_data"
        }
      ],
      "source": [
        "# error_rate = []\n",
        "# x_train, x_test, y_train, y_test = train_test_split(x, y, train_size=0.7,test_size=0.3,random_state = 0)\n",
        "\n",
        "# for i in range(1,20):\n",
        "#     knn = KNeighborsClassifier(n_neighbors=i)\n",
        "#     knn.fit(x_train, y_train)\n",
        "#     pred = knn.predict(x_test)\n",
        "#     error_rate.append(np.mean(pred != y_test))\n",
        "\n",
        "# plt.figure(figsize=(15,10))\n",
        "# plt.plot(range(1,20),error_rate, marker='o', markersize=9)"
      ]
    }
  ],
  "metadata": {
    "colab": {
      "provenance": [],
      "authorship_tag": "ABX9TyP8nkHePaTPBphtTYefq8V/",
      "include_colab_link": true
    },
    "kernelspec": {
      "display_name": "Python 3",
      "name": "python3"
    },
    "language_info": {
      "name": "python"
    }
  },
  "nbformat": 4,
  "nbformat_minor": 0
}